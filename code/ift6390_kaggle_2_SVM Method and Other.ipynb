{
  "nbformat": 4,
  "nbformat_minor": 0,
  "metadata": {
    "colab": {
      "provenance": []
    },
    "kernelspec": {
      "name": "python3",
      "display_name": "Python 3"
    },
    "language_info": {
      "name": "python"
    },
    "gpuClass": "standard"
  },
  "cells": [
    {
      "cell_type": "markdown",
      "source": [
        "# Used a ThunderSVM to increase the speed of training "
      ],
      "metadata": {
        "id": "k0Ad036SJU4m"
      }
    },
    {
      "cell_type": "code",
      "execution_count": null,
      "metadata": {
        "id": "A50eLCcE8mES",
        "colab": {
          "base_uri": "https://localhost:8080/"
        },
        "outputId": "7a91117a-52a4-44f9-b7fe-350aabbf185e"
      },
      "outputs": [
        {
          "output_type": "stream",
          "name": "stdout",
          "text": [
            "--2022-12-08 17:58:04--  https://developer.nvidia.com/compute/cuda/9.0/Prod/local_installers/cuda-repo-ubuntu1704-9-0-local_9.0.176-1_amd64-deb\n",
            "Resolving developer.nvidia.com (developer.nvidia.com)... 152.199.39.144\n",
            "Connecting to developer.nvidia.com (developer.nvidia.com)|152.199.39.144|:443... connected.\n",
            "HTTP request sent, awaiting response... 301 Moved Permanently\n",
            "Location: https://developer.nvidia.com/downloads/compute/cuda/9.0/Prod/local_installers/cuda-repo-ubuntu1704-9-0-local_9.0.176-1_amd64-deb [following]\n",
            "--2022-12-08 17:58:05--  https://developer.nvidia.com/downloads/compute/cuda/9.0/Prod/local_installers/cuda-repo-ubuntu1704-9-0-local_9.0.176-1_amd64-deb\n",
            "Reusing existing connection to developer.nvidia.com:443.\n",
            "HTTP request sent, awaiting response... 404 Not Found\n",
            "2022-12-08 17:58:06 ERROR 404: Not Found.\n",
            "\n",
            "build  dist  drive  sample_data  thundersvm  thundersvm.egg-info\n",
            "\u001b[1mdpkg:\u001b[0m \u001b[1;31merror:\u001b[0m cannot access archive 'cuda-repo-ubuntu1704-9-0-local_9.0.176-1_amd64-deb': No such file or directory\n",
            "ls: cannot access '/var/cuda-repo-9-0-local': No such file or directory\n",
            "gpg: can't open '/var/cuda-repo-9-0-local/7fa2af80.pub': No such file or directory\n",
            "Hit:1 https://cloud.r-project.org/bin/linux/ubuntu bionic-cran40/ InRelease\n",
            "Hit:2 http://security.ubuntu.com/ubuntu bionic-security InRelease\n",
            "Hit:3 http://archive.ubuntu.com/ubuntu bionic InRelease\n",
            "Hit:4 http://ppa.launchpad.net/c2d4u.team/c2d4u4.0+/ubuntu bionic InRelease\n",
            "Ign:5 https://developer.download.nvidia.com/compute/machine-learning/repos/ubuntu1804/x86_64  InRelease\n",
            "Hit:6 https://developer.download.nvidia.com/compute/cuda/repos/ubuntu1804/x86_64  InRelease\n",
            "Hit:7 https://developer.download.nvidia.com/compute/machine-learning/repos/ubuntu1804/x86_64  Release\n",
            "Hit:8 http://archive.ubuntu.com/ubuntu bionic-updates InRelease\n",
            "Hit:9 http://ppa.launchpad.net/cran/libgit2/ubuntu bionic InRelease\n",
            "Hit:10 http://archive.ubuntu.com/ubuntu bionic-backports InRelease\n",
            "Hit:12 http://ppa.launchpad.net/deadsnakes/ppa/ubuntu bionic InRelease\n",
            "Hit:13 http://ppa.launchpad.net/graphics-drivers/ppa/ubuntu bionic InRelease\n",
            "Reading package lists... Done\n",
            "Reading package lists... Done\n",
            "Building dependency tree       \n",
            "Reading state information... Done\n",
            "Note, selecting 'libcuda-9.0-1' for regex 'cuda-9.0'\n",
            "The following package was automatically installed and is no longer required:\n",
            "  libnvidia-common-460\n",
            "Use 'sudo apt autoremove' to remove it.\n",
            "0 upgraded, 0 newly installed, 0 to remove and 41 not upgraded.\n"
          ]
        }
      ],
      "source": [
        "!wget https://developer.nvidia.com/compute/cuda/9.0/Prod/local_installers/cuda-repo-ubuntu1704-9-0-local_9.0.176-1_amd64-deb\n",
        "!ls  # Check if required cuda 9.0 amd64-deb file is downloaded\n",
        "!dpkg -i cuda-repo-ubuntu1704-9-0-local_9.0.176-1_amd64-deb\n",
        "!ls /var/cuda-repo-9-0-local | grep .pub\n",
        "!apt-key add /var/cuda-repo-9-0-local/7fa2af80.pub\n",
        "!apt-get update\n",
        "!sudo apt-get install cuda-9.0"
      ]
    },
    {
      "cell_type": "code",
      "source": [],
      "metadata": {
        "id": "XNvFexV9bqVx"
      },
      "execution_count": null,
      "outputs": []
    },
    {
      "cell_type": "markdown",
      "source": [
        "# Adds GPU based learning for SVM and Processes Data"
      ],
      "metadata": {
        "id": "zcCvXQ34brRy"
      }
    },
    {
      "cell_type": "markdown",
      "source": [
        "Requirements to run this on GPU to save memory contrainst"
      ],
      "metadata": {
        "id": "0cSGzyB-iw8O"
      }
    },
    {
      "cell_type": "code",
      "source": [
        "!nvcc --version"
      ],
      "metadata": {
        "colab": {
          "base_uri": "https://localhost:8080/"
        },
        "id": "suc-jplYPdLJ",
        "outputId": "fe995d84-8ee2-4f0d-e16f-fef4c97821b7"
      },
      "execution_count": null,
      "outputs": [
        {
          "output_type": "stream",
          "name": "stdout",
          "text": [
            "nvcc: NVIDIA (R) Cuda compiler driver\n",
            "Copyright (c) 2005-2021 NVIDIA Corporation\n",
            "Built on Sun_Feb_14_21:12:58_PST_2021\n",
            "Cuda compilation tools, release 11.2, V11.2.152\n",
            "Build cuda_11.2.r11.2/compiler.29618528_0\n"
          ]
        }
      ]
    },
    {
      "cell_type": "code",
      "source": [
        "!pip install thundersvm"
      ],
      "metadata": {
        "colab": {
          "base_uri": "https://localhost:8080/"
        },
        "id": "Vl09pbSBPfLZ",
        "outputId": "b9ffffe9-557a-461e-c967-df83c78c6fea"
      },
      "execution_count": null,
      "outputs": [
        {
          "output_type": "stream",
          "name": "stdout",
          "text": [
            "Looking in indexes: https://pypi.org/simple, https://us-python.pkg.dev/colab-wheels/public/simple/\n",
            "Requirement already satisfied: thundersvm in /usr/local/lib/python3.8/dist-packages (0.3.12)\n",
            "Requirement already satisfied: scikit-learn in /usr/local/lib/python3.8/dist-packages (from thundersvm) (1.0.2)\n",
            "Requirement already satisfied: scipy in /usr/local/lib/python3.8/dist-packages (from thundersvm) (1.7.3)\n",
            "Requirement already satisfied: numpy in /usr/local/lib/python3.8/dist-packages (from thundersvm) (1.21.6)\n",
            "Requirement already satisfied: joblib>=0.11 in /usr/local/lib/python3.8/dist-packages (from scikit-learn->thundersvm) (1.2.0)\n",
            "Requirement already satisfied: threadpoolctl>=2.0.0 in /usr/local/lib/python3.8/dist-packages (from scikit-learn->thundersvm) (3.1.0)\n"
          ]
        }
      ]
    },
    {
      "cell_type": "code",
      "source": [
        "#Cleaned Version\n",
        "! git clone https://github.com/Xtra-Computing/thundersvm.git\n",
        "! cd thundersvm && mkdir build && cd build && cmake .. && make -j\n",
        "! python /content/thundersvm/python/setup.py install\n",
        "\n",
        "\n",
        "from sklearn.preprocessing import LabelEncoder\n",
        "\n",
        "\n",
        "from importlib.machinery import SourceFileLoader\n",
        "thundersvm = SourceFileLoader(\"thundersvm\", \"/content/thundersvm/python/thundersvm/thundersvm.py\").load_module()\n",
        "#from thundersvm import SVC\n",
        "#clf = SVC()\n",
        "#clf.fit(x, y)\n",
        "svc = svm.SVC(verbose=True)"
      ],
      "metadata": {
        "id": "XT7SXNp-OsFa"
      },
      "execution_count": null,
      "outputs": []
    },
    {
      "cell_type": "code",
      "source": [
        "from sklearn.datasets import make_classification\n",
        "from sklearn.model_selection import train_test_split\n",
        "from thundersvm import SVC"
      ],
      "metadata": {
        "id": "kcTW1P08HpI6"
      },
      "execution_count": null,
      "outputs": []
    },
    {
      "cell_type": "markdown",
      "source": [
        "Imports the Cleaned Data"
      ],
      "metadata": {
        "id": "IX6EIzmD8n-6"
      }
    },
    {
      "cell_type": "code",
      "source": [
        "from google.colab import drive\n",
        "drive.mount('/content/drive')\n",
        "import pandas as pd\n",
        "#from google.colab import drive\n",
        "from sklearn.preprocessing import LabelEncoder\n",
        "\n",
        "#train_data = pd.read_csv('/content/drive/MyDrive/Colab Notebooks/DC/data/train_data.csv', delimiter=',')\n",
        "#test_data = pd.read_csv('/content/drive/MyDrive/Colab Notebooks/DC/data/test_d#ata.csv', delimiter=',')\n",
        "train_results = pd.read_csv('/content/drive/MyDrive/Colab Notebooks/DC/data/train_results.csv', delimiter=',')\n",
        "\n",
        "#X = train_data['text'].copy()\n",
        "y = train_results['target'].copy()\n",
        "#X_test = test_data['text'].copy()\n",
        "\n",
        "\n",
        "le = LabelEncoder()\n",
        "le.fit(y.unique())\n",
        "y = le.transform(y) #positive:2, negative:0, neutral:1\n",
        "y[:5]"
      ],
      "metadata": {
        "colab": {
          "base_uri": "https://localhost:8080/"
        },
        "id": "zB9xVcrt8pIk",
        "outputId": "ec08e7b3-d9a4-46e1-f2fc-206974565ad4"
      },
      "execution_count": null,
      "outputs": [
        {
          "output_type": "stream",
          "name": "stdout",
          "text": [
            "Drive already mounted at /content/drive; to attempt to forcibly remount, call drive.mount(\"/content/drive\", force_remount=True).\n"
          ]
        },
        {
          "output_type": "execute_result",
          "data": {
            "text/plain": [
              "array([2, 0, 2, 2, 0])"
            ]
          },
          "metadata": {},
          "execution_count": 1
        }
      ]
    },
    {
      "cell_type": "code",
      "source": [
        "y.shape"
      ],
      "metadata": {
        "colab": {
          "base_uri": "https://localhost:8080/"
        },
        "id": "kq00xT2leGcA",
        "outputId": "6fdb541a-c67c-438f-d01f-bb432cbac994"
      },
      "execution_count": null,
      "outputs": [
        {
          "output_type": "execute_result",
          "data": {
            "text/plain": [
              "(1040323,)"
            ]
          },
          "metadata": {},
          "execution_count": 94
        }
      ]
    },
    {
      "cell_type": "code",
      "source": [
        "with open(r'/content/drive/MyDrive/Colab Notebooks/DC/tokens.txt', 'r') as fp:\n",
        "    output_list = fp.read().splitlines()"
      ],
      "metadata": {
        "id": "eW5CaN2hRv72"
      },
      "execution_count": null,
      "outputs": []
    },
    {
      "cell_type": "code",
      "source": [
        "output_list[0]"
      ],
      "metadata": {
        "colab": {
          "base_uri": "https://localhost:8080/",
          "height": 36
        },
        "id": "5_cIl57Pd8tW",
        "outputId": "d8de11b9-d23e-4e44-ad75-1f86eae7562c"
      },
      "execution_count": null,
      "outputs": [
        {
          "output_type": "execute_result",
          "data": {
            "text/plain": [
              "'getting'"
            ],
            "application/vnd.google.colaboratory.intrinsic+json": {
              "type": "string"
            }
          },
          "metadata": {},
          "execution_count": 3
        }
      ]
    },
    {
      "cell_type": "code",
      "source": [
        "from nltk import ngrams\n",
        "def ngrams(input_list):\n",
        "    #onegrams = input_list\n",
        "    input_list = input_list.split(\" \")\n",
        "    bigrams = [' '.join(t) for t in list(zip(input_list, input_list[1:]))]\n",
        "    trigrams = [' '.join(t) for t in list(zip(input_list, input_list[1:], input_list[2:]))]\n",
        "    return bigrams+trigrams\n",
        "\n",
        "for i in range(0, len(output_list)):\n",
        "  print(ngrams(output_list[i]))\n",
        "  if i == 5:\n",
        "    break\n"
      ],
      "metadata": {
        "colab": {
          "base_uri": "https://localhost:8080/"
        },
        "id": "-pMvr0MqdVU9",
        "outputId": "cc51568e-29b0-4c0c-d12b-24fc01e6f524"
      },
      "execution_count": null,
      "outputs": [
        {
          "output_type": "stream",
          "name": "stdout",
          "text": [
            "[]\n",
            "['apache feelin', 'feelin well', 'well morning', 'apache feelin well', 'feelin well morning']\n",
            "['great friday', 'friday great', 'great tooooooo', 'great friday great', 'friday great tooooooo']\n",
            "['dont wan', 'wan na', 'na sleep', 'sleep debated', 'debated end', 'end decided', 'decided perfect', 'perfect time', 'time bake', 'bake kidding', 'dont wan na', 'wan na sleep', 'na sleep debated', 'sleep debated end', 'debated end decided', 'end decided perfect', 'decided perfect time', 'perfect time bake', 'time bake kidding']\n",
            "['twitter eat', 'eat dm', 'dm happy', 'twitter eat dm', 'eat dm happy']\n",
            "['drivin north', 'north guess', 'guess miss', 'miss u', 'u tonite', 'drivin north guess', 'north guess miss', 'guess miss u', 'miss u tonite']\n"
          ]
        }
      ]
    },
    {
      "cell_type": "code",
      "source": [
        "import collections\n",
        "def count_words(input):\n",
        "    cnt = collections.Counter()\n",
        "    for row in input:\n",
        "        for word in row:\n",
        "            cnt[word] += 1\n",
        "    return cnt"
      ],
      "metadata": {
        "id": "GD0gY-MMe6U8"
      },
      "execution_count": null,
      "outputs": []
    },
    {
      "cell_type": "code",
      "source": [
        "import numpy as np\n",
        "from scipy.sparse import hstack\n",
        "from sklearn.feature_extraction.text import CountVectorizer\n",
        "count_vectorizer = CountVectorizer(ngram_range=(1,2))"
      ],
      "metadata": {
        "id": "GLicuqtse7W8"
      },
      "execution_count": null,
      "outputs": []
    },
    {
      "cell_type": "code",
      "source": [
        "vectorized_data = count_vectorizer.fit_transform(output_list[0:50000])\n",
        "indexed_data = hstack((np.array(range(0,vectorized_data.shape[0]))[:,None], vectorized_data))\n",
        "\n",
        "scaling = MinMaxScaler(feature_range=(-1,1)).fit(vectorized_data)\n",
        "X_train = scaling.transform(X_train)\n",
        "X_test = scaling.transform(X_test)"
      ],
      "metadata": {
        "id": "D_wnCOHvfDbv"
      },
      "execution_count": null,
      "outputs": []
    },
    {
      "cell_type": "markdown",
      "source": [],
      "metadata": {
        "id": "vCDUblSUu2pl"
      }
    },
    {
      "cell_type": "code",
      "source": [
        "test=indexed_data.toarray()"
      ],
      "metadata": {
        "id": "527PDixjfK6o"
      },
      "execution_count": null,
      "outputs": []
    },
    {
      "cell_type": "code",
      "source": [
        "np.unique(test[4])"
      ],
      "metadata": {
        "colab": {
          "base_uri": "https://localhost:8080/"
        },
        "id": "4BurW74lszkK",
        "outputId": "8022d212-6a32-462c-a5fb-5b5139cb2905"
      },
      "execution_count": null,
      "outputs": [
        {
          "output_type": "execute_result",
          "data": {
            "text/plain": [
              "array([0, 1, 4])"
            ]
          },
          "metadata": {},
          "execution_count": 23
        }
      ]
    },
    {
      "cell_type": "markdown",
      "source": [
        "# Looking an an Example Plane"
      ],
      "metadata": {
        "id": "pPmJgaayszAs"
      }
    },
    {
      "cell_type": "code",
      "source": [
        "from sklearn import svm\n",
        "from sklearn.multiclass import OneVsRestClassifier\n",
        "clf = OneVsRestClassifier(svm.SVC(gamma=0.01, C=1., probability=True, class_weight='balanced', kernel='linear'))\n",
        "clf_output = clf.fit(indexed_data, y[0:50000])"
      ],
      "metadata": {
        "id": "LQQ8LklDfPY0"
      },
      "execution_count": null,
      "outputs": []
    },
    {
      "cell_type": "code",
      "source": [
        "from sklearn.svm import SVC\n",
        "import numpy as np\n",
        "import matplotlib.pyplot as plt\n",
        "from sklearn import svm, datasets\n",
        "\n",
        "plot_contours(ax, clf, xx, yy, cmap=plt.cm.coolwarm, alpha=0.8)\n",
        "ax.scatter(X0, X1, c=y, cmap=plt.cm.coolwarm, s=20, edgecolors='k')\n",
        "ax.set_ylabel('y label here')\n",
        "ax.set_xlabel('x label here')\n",
        "ax.set_xticks(())\n",
        "ax.set_yticks(())\n",
        "ax.set_title(title)\n",
        "ax.legend()\n",
        "plt.show()"
      ],
      "metadata": {
        "id": "fHPM2V5Zf8lp",
        "outputId": "0b7bee40-0f27-40dc-f3cd-ec6ec1a8bea7",
        "colab": {
          "base_uri": "https://localhost:8080/",
          "height": 295
        }
      },
      "execution_count": null,
      "outputs": [
        {
          "output_type": "stream",
          "name": "stderr",
          "text": [
            "WARNING:matplotlib.legend:No handles with labels found to put in legend.\n"
          ]
        },
        {
          "output_type": "display_data",
          "data": {
            "text/plain": [
              "<Figure size 432x288 with 1 Axes>"
            ],
            "image/png": "[encoded data removed]"
          },
          "metadata": {}
        }
      ]
    },
    {
      "cell_type": "code",
      "source": [
        "clf.score(indexed_data, y[0:5])"
      ],
      "metadata": {
        "colab": {
          "base_uri": "https://localhost:8080/"
        },
        "id": "tA_uZRiRfgtc",
        "outputId": "7508254a-a120-427f-a719-7ed25a76b325"
      },
      "execution_count": null,
      "outputs": [
        {
          "output_type": "execute_result",
          "data": {
            "text/plain": [
              "1.0"
            ]
          },
          "metadata": {},
          "execution_count": 24
        }
      ]
    },
    {
      "cell_type": "code",
      "source": [
        " from sklearn.linear_model import SGDClassifier\n",
        "\n",
        "clf= SGDClassifier(learning_rate = 'constant', eta0 = 0.1, shuffle = False)\n",
        "# get x1, y1 as a new instance\n"
      ],
      "metadata": {
        "id": "UaGyXCXFf9f8"
      },
      "execution_count": null,
      "outputs": []
    },
    {
      "cell_type": "code",
      "source": [
        "y"
      ],
      "metadata": {
        "colab": {
          "base_uri": "https://localhost:8080/"
        },
        "id": "MsGcQcD8sDYi",
        "outputId": "44b25b26-c460-4842-a718-910cf3501413"
      },
      "execution_count": null,
      "outputs": [
        {
          "output_type": "execute_result",
          "data": {
            "text/plain": [
              "array([2, 0, 2, ..., 0, 2, 0])"
            ]
          },
          "metadata": {},
          "execution_count": 11
        }
      ]
    },
    {
      "cell_type": "code",
      "source": [
        "\n",
        "for i in range(0, 10)\n",
        "  clf.partial_fit(indexed_data, y[0:500], classes=np.unique(y))\n",
        "  clf.score(indexed_data, y[0:500])\n",
        "# get x2, y2\n",
        "# update accuracy if needed\n",
        "#clf.partial_fit(x2, y2)"
      ],
      "metadata": {
        "colab": {
          "base_uri": "https://localhost:8080/"
        },
        "id": "ViXcw3utgZ2S",
        "outputId": "b8c79d48-bcd1-4e52-c7e2-db69ed00d071"
      },
      "execution_count": null,
      "outputs": [
        {
          "output_type": "execute_result",
          "data": {
            "text/plain": [
              "0.504"
            ]
          },
          "metadata": {},
          "execution_count": 13
        }
      ]
    },
    {
      "cell_type": "markdown",
      "source": [
        "# If Processing is necessary"
      ],
      "metadata": {
        "id": "rkE4dGngSF0P"
      }
    },
    {
      "cell_type": "code",
      "source": [],
      "metadata": {
        "id": "BpMySmf34dAQ"
      },
      "execution_count": null,
      "outputs": []
    },
    {
      "cell_type": "markdown",
      "source": [],
      "metadata": {
        "id": "Cxu7AnPvQhJt"
      }
    },
    {
      "cell_type": "code",
      "source": [
        "# tokens[0]\n",
        "# s = ''.join(tokens[0])\n",
        "# out_list = []\n",
        "# out_list.append(s)\n",
        "# for i in range(0, len(tokens)):\n",
        "#   s = ' '.join(tokens[i])\n",
        "#   out_list.append(s)\n",
        "import nltk\n",
        "nltk.download('punkt')\n",
        "nltk.download('wordnet')\n",
        "nltk.download('omw-1.4')\n",
        "nltk.download('stopwords')\n",
        "import re, nltk\n",
        "from nltk.stem import WordNetLemmatizer\n",
        "from nltk.corpus import stopwords\n",
        "stop_words = set(stopwords.words('english'))\n",
        "wordnet_lemmatizer = WordNetLemmatizer()\n",
        "\n",
        "def normalizer(tweet):\n",
        "    out = []\n",
        "    tweet = re.sub(r'http\\S+', '', tweet )\n",
        "    only_letters = re.sub(\"[^a-zA-Z]\", \" \",tweet) \n",
        "    #only_letters = re.sub(r'http\\S+', '', )\n",
        "    #only_letters = remove_urls(only_letters)\n",
        "    tokens = nltk.word_tokenize(only_letters)[2:]\n",
        "    lower_case = [l.lower() for l in tokens]\n",
        "    #lower_case = remove_urls(lower_case)\n",
        "    filtered_result = list(filter(lambda l: l not in stop_words, lower_case))\n",
        "    lemmas = [wordnet_lemmatizer.lemmatize(t) for t in filtered_result]\n",
        "    s = ' '.join(lemmas)\n",
        "    out.append(s)\n",
        "    return out\n",
        "#test = X.apply(lambda x: normalizer(x))\n",
        "\n",
        "# need to write this to a file \n",
        "#output_list = []\n",
        "#for value in test:\n",
        " # output_list.append(value[0])\n"
      ],
      "metadata": {
        "id": "V-B_ZaX1Qdqi",
        "colab": {
          "base_uri": "https://localhost:8080/"
        },
        "outputId": "178c92c4-8794-4f98-fad1-93c505939154"
      },
      "execution_count": null,
      "outputs": [
        {
          "output_type": "stream",
          "name": "stderr",
          "text": [
            "[nltk_data] Downloading package punkt to /root/nltk_data...\n",
            "[nltk_data]   Package punkt is already up-to-date!\n",
            "[nltk_data] Downloading package wordnet to /root/nltk_data...\n",
            "[nltk_data]   Package wordnet is already up-to-date!\n",
            "[nltk_data] Downloading package omw-1.4 to /root/nltk_data...\n",
            "[nltk_data]   Package omw-1.4 is already up-to-date!\n",
            "[nltk_data] Downloading package stopwords to /root/nltk_data...\n",
            "[nltk_data]   Package stopwords is already up-to-date!\n"
          ]
        }
      ]
    },
    {
      "cell_type": "code",
      "source": [
        "with open(r'/content/drive/MyDrive/Colab Notebooks/DC/tokens.txt', 'w') as fp:\n",
        "    for item in output_list:\n",
        "        # write each item on a new line\n",
        "        fp.write(\"%s\\n\" % item)\n",
        "    print('Done')"
      ],
      "metadata": {
        "id": "xJNktF31H_th",
        "colab": {
          "base_uri": "https://localhost:8080/"
        },
        "outputId": "a9ae401d-c9f2-403e-ece4-97e96adaaf23"
      },
      "execution_count": null,
      "outputs": [
        {
          "output_type": "stream",
          "name": "stdout",
          "text": [
            "Done\n"
          ]
        }
      ]
    },
    {
      "cell_type": "markdown",
      "source": [
        "# How many features to use?\n",
        "\n",
        "max_features = 3000 \n",
        "max_features = 5000"
      ],
      "metadata": {
        "id": "g7yxcOxYnVl0"
      }
    },
    {
      "cell_type": "code",
      "source": [
        "from sklearn.feature_extraction.text import TfidfVectorizer\n",
        "from sklearn.metrics import accuracy_score\n",
        "tfvectorizer = TfidfVectorizer(min_df = 1e-6, ngram_range = (1,5),\n",
        "                            lowercase =  True, use_idf= True, sublinear_tf = True, \n",
        "                            max_features=3000, \n",
        "                            stop_words = \"english\")\n",
        "\n",
        "# Train the vectorizer on the training data and transform the training data and the test data\n",
        "tfvectorizer.fit(output_list)\n",
        "X_bag = tfvectorizer.fit_transform(output_list)"
      ],
      "metadata": {
        "id": "c-bBYldoQUkr"
      },
      "execution_count": null,
      "outputs": []
    },
    {
      "cell_type": "markdown",
      "source": [
        "# SVM (71% validation accuracy)"
      ],
      "metadata": {
        "id": "7GfYfLKFL_EH"
      }
    },
    {
      "cell_type": "code",
      "source": [
        "from sklearn.feature_extraction.text import CountVectorizer\n",
        "from sklearn.model_selection import train_test_split\n",
        "from sklearn.preprocessing import StandardScaler\n",
        "\n",
        "from sklearn.tree import DecisionTreeClassifier\n",
        "from sklearn.ensemble import RandomForestClassifier\n",
        "from xgboost import XGBClassifier"
      ],
      "metadata": {
        "id": "RRfkupS7JkEE"
      },
      "execution_count": null,
      "outputs": []
    },
    {
      "cell_type": "code",
      "source": [
        "#output_list[0:10000]\n",
        "\n",
        "cv = CountVectorizer(max_features = 3000)\n",
        "x = cv.fit_transform(output_list).toarray()\n",
        "sc = StandardScaler()\n",
        "x_train = sc.fit_transform(x)\n",
        "x_val = sc.transform(x_val)"
      ],
      "metadata": {
        "id": "XbB4a1zAJV3j"
      },
      "execution_count": null,
      "outputs": []
    },
    {
      "cell_type": "code",
      "source": [
        "#sc = StandardScaler(with_mean=False)\n",
        "#X_train_sc = sc.fit(x)\n",
        "#x_train = X_train_sc.transform(x)"
      ],
      "metadata": {
        "id": "_PPHXe73SxC3"
      },
      "execution_count": null,
      "outputs": []
    },
    {
      "cell_type": "code",
      "source": [
        "with open(r'/content/drive/MyDrive/Colab Notebooks/DC/scaled_values.txt', 'w') as fp:\n",
        "    for item in output_list:\n",
        "        # write each item on a new line\n",
        "        fp.write(\"%s\\n\" % item)\n",
        "    print('Done')"
      ],
      "metadata": {
        "id": "JCTMF7dWSNuW"
      },
      "execution_count": null,
      "outputs": []
    },
    {
      "cell_type": "code",
      "source": [],
      "metadata": {
        "id": "TEsm4Kh6Mv5X"
      },
      "execution_count": null,
      "outputs": []
    },
    {
      "cell_type": "code",
      "source": [
        "x_train.shape"
      ],
      "metadata": {
        "colab": {
          "base_uri": "https://localhost:8080/"
        },
        "id": "ENTfBnNWc3PO",
        "outputId": "742d00c4-ab7c-4ae1-e6b6-eb4530c42a39"
      },
      "execution_count": null,
      "outputs": [
        {
          "output_type": "execute_result",
          "data": {
            "text/plain": [
              "(100000, 3000)"
            ]
          },
          "metadata": {},
          "execution_count": 83
        }
      ]
    },
    {
      "cell_type": "code",
      "source": [
        "x_train.shape"
      ],
      "metadata": {
        "colab": {
          "base_uri": "https://localhost:8080/"
        },
        "id": "WHp0wLXsUCqY",
        "outputId": "597b70b1-a9c1-4f91-ad45-e1e80caf37f9"
      },
      "execution_count": null,
      "outputs": [
        {
          "output_type": "execute_result",
          "data": {
            "text/plain": [
              "(1040323, 3000)"
            ]
          },
          "metadata": {},
          "execution_count": 19
        }
      ]
    },
    {
      "cell_type": "code",
      "source": [
        "y.shape"
      ],
      "metadata": {
        "colab": {
          "base_uri": "https://localhost:8080/"
        },
        "id": "wAPZXL06UEEQ",
        "outputId": "83be3089-b863-4d06-e985-d04a512bbda2"
      },
      "execution_count": null,
      "outputs": [
        {
          "output_type": "execute_result",
          "data": {
            "text/plain": [
              "(1040323,)"
            ]
          },
          "metadata": {},
          "execution_count": 20
        }
      ]
    },
    {
      "cell_type": "markdown",
      "source": [
        "# Look a bit at the vocabulary "
      ],
      "metadata": {
        "id": "SyKLjcRYnhAE"
      }
    },
    {
      "cell_type": "code",
      "source": [
        "tfvectorizer.vocabulary_"
      ],
      "metadata": {
        "id": "zlJrkYg4hX2w"
      },
      "execution_count": null,
      "outputs": []
    },
    {
      "cell_type": "code",
      "source": [
        "X_bag[0:10]"
      ],
      "metadata": {
        "colab": {
          "base_uri": "https://localhost:8080/"
        },
        "id": "HrNIzrW4cD40",
        "outputId": "2852162f-4d95-4686-edba-5fa32adc2328"
      },
      "execution_count": null,
      "outputs": [
        {
          "output_type": "execute_result",
          "data": {
            "text/plain": [
              "<10x3000 sparse matrix of type '<class 'numpy.float64'>'\n",
              "\twith 43 stored elements in Compressed Sparse Row format>"
            ]
          },
          "metadata": {},
          "execution_count": 62
        }
      ]
    },
    {
      "cell_type": "markdown",
      "source": [
        "# Fit the SVN Models"
      ],
      "metadata": {
        "id": "GU3G5vX_nli7"
      }
    },
    {
      "cell_type": "code",
      "source": [
        "SVM = SVC(C=1.0, kernel='linear', degree=3, gamma='auto')\n",
        "SVM.fit(X_bag,y)"
      ],
      "metadata": {
        "id": "ryydyGqAKk5v",
        "colab": {
          "base_uri": "https://localhost:8080/"
        },
        "outputId": "a5bee344-3727-4500-8e16-3c4f72c705e4"
      },
      "execution_count": null,
      "outputs": [
        {
          "output_type": "execute_result",
          "data": {
            "text/plain": [
              "SVC(class_weight={}, kernel='linear')"
            ]
          },
          "metadata": {},
          "execution_count": 16
        }
      ]
    },
    {
      "cell_type": "code",
      "source": [
        "import pickle\n",
        "filename = '/content/drive/MyDrive/Colab Notebooks/DC/svm_fullset_finalized_model.sav'\n",
        "pickle.dump(SVM, open(filename, 'wb'))"
      ],
      "metadata": {
        "id": "yJZ-a3VduWh7"
      },
      "execution_count": null,
      "outputs": []
    },
    {
      "cell_type": "code",
      "source": [
        "X_bag.shape"
      ],
      "metadata": {
        "colab": {
          "base_uri": "https://localhost:8080/"
        },
        "id": "InGl9DG6TtkL",
        "outputId": "ce18c011-bf00-4a19-ebef-62b62dbbb747"
      },
      "execution_count": null,
      "outputs": [
        {
          "output_type": "execute_result",
          "data": {
            "text/plain": [
              "(50001, 5000)"
            ]
          },
          "metadata": {},
          "execution_count": 18
        }
      ]
    },
    {
      "cell_type": "code",
      "source": [
        "y.shape"
      ],
      "metadata": {
        "colab": {
          "base_uri": "https://localhost:8080/"
        },
        "id": "1hUhhb-DTwmS",
        "outputId": "a31ada34-53ce-48e5-839e-5caf322366ff"
      },
      "execution_count": null,
      "outputs": [
        {
          "output_type": "execute_result",
          "data": {
            "text/plain": [
              "(50000,)"
            ]
          },
          "metadata": {},
          "execution_count": 19
        }
      ]
    },
    {
      "cell_type": "markdown",
      "source": [
        "# Train the SVM"
      ],
      "metadata": {
        "id": "eAKh_83LTv2b"
      }
    },
    {
      "cell_type": "code",
      "source": [
        "# load the SVM: "
      ],
      "metadata": {
        "id": "2XNxCs3sOSTD"
      },
      "execution_count": 2,
      "outputs": []
    },
    {
      "cell_type": "code",
      "source": [
        "SVM = svm.SVC(C=1.0, kernel='linear', degree=3, gamma='auto')\n",
        "SVM.fit(X_bag, y)"
      ],
      "metadata": {
        "id": "GzRnsaPLT8Hb"
      },
      "execution_count": null,
      "outputs": []
    },
    {
      "cell_type": "code",
      "source": [
        "predictions_SVM = SVM.predict(x_val[400000:500000])\n",
        "print(\"SVM Accuracy Score -> \",accuracy_score(predictions_SVM, y[400000:500000])*100)"
      ],
      "metadata": {
        "colab": {
          "base_uri": "https://localhost:8080/"
        },
        "id": "awE4cdmeQswi",
        "outputId": "3940da4d-3a4f-47e0-8bf8-6f78f841af92"
      },
      "execution_count": null,
      "outputs": [
        {
          "output_type": "stream",
          "name": "stdout",
          "text": [
            "SVM Accuracy Score ->  71.90299999999999\n"
          ]
        }
      ]
    },
    {
      "cell_type": "markdown",
      "source": [
        "# Loading the Model"
      ],
      "metadata": {
        "id": "OVa7w6FluMHJ"
      }
    },
    {
      "cell_type": "code",
      "source": [
        "import pandas as pd\n",
        "test_data = pd.read_csv('/content/drive/MyDrive/Colab Notebooks/DC/data/test_data_fix.csv', delimiter=',')['text']"
      ],
      "metadata": {
        "id": "sCp1NgZBuMsL"
      },
      "execution_count": null,
      "outputs": []
    },
    {
      "cell_type": "markdown",
      "source": [],
      "metadata": {
        "id": "ACzLBF0rI98h"
      }
    },
    {
      "cell_type": "code",
      "source": [
        "with open(r'/content/drive/MyDrive/Colab Notebooks/DC/tokens_text.txt', 'w') as fp:\n",
        "    for item in test_data:\n",
        "        # write each item on a new line\n",
        "        fp.write(\"%s\\n\" % item)\n",
        "    print('Done')"
      ],
      "metadata": {
        "colab": {
          "base_uri": "https://localhost:8080/"
        },
        "id": "ewol4JdPI-bc",
        "outputId": "93b2006e-3478-447f-87f7-8556799f1cf9"
      },
      "execution_count": null,
      "outputs": [
        {
          "output_type": "stream",
          "name": "stdout",
          "text": [
            "Done\n"
          ]
        }
      ]
    },
    {
      "cell_type": "code",
      "source": [
        "X_test = tfvectorizer.transform(test_data)"
      ],
      "metadata": {
        "id": "62jNHmOPwVsE"
      },
      "execution_count": null,
      "outputs": []
    },
    {
      "cell_type": "markdown",
      "source": [
        "# Load the Trained Model (saved as a pickle file)"
      ],
      "metadata": {
        "id": "2RPJa7UXKM0f"
      }
    },
    {
      "cell_type": "code",
      "source": [
        "import pickle\n",
        "SVM = pickle.load(open('/content/drive/MyDrive/Colab Notebooks/DC/svm_300000_finalized_model.sav', 'rb'))"
      ],
      "metadata": {
        "id": "QqinqazoOYrM"
      },
      "execution_count": null,
      "outputs": []
    },
    {
      "cell_type": "code",
      "source": [
        "with open('/content/drive/MyDrive/Colab Notebooks/DC/data/_svm.csv', 'a') as f: \n",
        "  count = 0 \n",
        "  for value in len(X_test): \n",
        "    f.write(\"{},{}\\n\".format(int(count), int(SVM.predict(value)[0])))\n",
        "    count = count + 1 \n",
        "    if count % 500 ==0:\n",
        "      print(count)"
      ],
      "metadata": {
        "id": "DK9qnlEK0myj"
      },
      "execution_count": null,
      "outputs": []
    },
    {
      "cell_type": "code",
      "source": [
        "output_list = []"
      ],
      "metadata": {
        "id": "rs8wC0yWwRWV"
      },
      "execution_count": null,
      "outputs": []
    },
    {
      "cell_type": "code",
      "source": [],
      "metadata": {
        "id": "fzgfU47Cwqvf"
      },
      "execution_count": null,
      "outputs": []
    },
    {
      "cell_type": "code",
      "source": [],
      "metadata": {
        "id": "hz-bjie4wQho"
      },
      "execution_count": null,
      "outputs": []
    },
    {
      "cell_type": "markdown",
      "source": [
        "# Other Variations of the SVM"
      ],
      "metadata": {
        "id": "zGWde6G5QTtB"
      }
    },
    {
      "cell_type": "code",
      "source": [
        "from sklearn.metrics import accuracy_score\n",
        "SVM = svm.SVC(C=1.0, kernel='linear', degree=3, gamma='auto')\n",
        "SVM.fit(X_train,y_train)"
      ],
      "metadata": {
        "colab": {
          "base_uri": "https://localhost:8080/"
        },
        "id": "XWknpcC-Lrkt",
        "outputId": "e0daa268-854f-4c62-cb20-9b78f35dea05"
      },
      "execution_count": null,
      "outputs": [
        {
          "output_type": "execute_result",
          "data": {
            "text/plain": [
              "SVC(gamma='auto', kernel='linear')"
            ]
          },
          "metadata": {},
          "execution_count": 15
        }
      ]
    },
    {
      "cell_type": "code",
      "source": [
        "import nltk\n",
        "from nltk.corpus import stopwords\n",
        "from nltk.tokenize import TweetTokenizer\n",
        "import re\n",
        "import string\n",
        "\n",
        "from nltk.stem.porter import PorterStemmer\n",
        "\n",
        "# Drop the two columns \n",
        "#df.drop([\"text_wo_stopfreq\", \"text_wo_stopfreqrare\"], axis=1, inplace=True) \n",
        "\n",
        "stemmer = PorterStemmer()\n",
        "def stem_words(text):\n",
        "    return \" \".join([stemmer.stem(word) for word in text.split()])\n",
        "\n",
        "def remove_urls(text):\n",
        "    url_pattern = re.compile(r'https?://\\S+|www\\.\\S+')\n",
        "    return url_pattern.sub(r'', text)\n",
        "\n",
        "\n",
        "nltk.download('stopwords')\n",
        "english_stopwords = stopwords.words(\"english\")\n",
        "other= [\"..\", \"...\", \"....\", \"... ...\"]\n",
        "negative_words = ('no', 'not')\n",
        "english_stopwords = [e for e in english_stopwords if e not in negative_words]\n",
        "\n",
        "tweet_tokenizer = TweetTokenizer(\n",
        "    preserve_case=False,\n",
        "    strip_handles=True,\n",
        "    reduce_len=False\n",
        ")\n",
        "\n",
        "tokens = []\n",
        "# for tweet in x_train:\n",
        "# gets rid of URLs\n",
        "X = X.apply(lambda x: re.sub(r'http\\S+', '', x))\n",
        "X = X.apply(lambda x: remove_urls(x))\n",
        "#X = X.apply(lambda x: stem_words(x))\n"
      ],
      "metadata": {
        "colab": {
          "base_uri": "https://localhost:8080/"
        },
        "id": "Tvm3Sg4h8-xA",
        "outputId": "3e662c15-20d3-496b-e8f6-808d177c4b40"
      },
      "execution_count": null,
      "outputs": [
        {
          "output_type": "stream",
          "name": "stderr",
          "text": [
            "[nltk_data] Downloading package stopwords to /root/nltk_data...\n",
            "[nltk_data]   Package stopwords is already up-to-date!\n"
          ]
        }
      ]
    },
    {
      "cell_type": "code",
      "source": [
        "for i, tweet in enumerate(X):\n",
        "    #print(stem_wordstweet)\n",
        "    #tweet = stem_words(tweet)\n",
        "    #print(tweet)\n",
        "    # brazilian\n",
        "    # if 'traido' in tweet: \n",
        "    #   continue \n",
        "    # if 'îºî' in tweet: \n",
        "    #   continue\n",
        "    # if 'cap des' in tweet: \n",
        "    #   continue\n",
        "    # if \"àª\" in tweet: \n",
        "    #   continue\n",
        "    \n",
        "    string_encode = tweet.encode(\"ascii\", \"ignore\")\n",
        "    tweet = string_encode.decode()\n",
        "    tweet = tweet.replace(r\"tooooooo\", \"too\")\n",
        "    tweet = tweet.replace(\";)\", \"smile\")\n",
        "    tweet = tweet.replace(\":-D\", \"lovw\")\n",
        "    tweet = tweet.replace(\"=]\", \"love\")\n",
        "    tweet = tweet.replace(\"xxx\", \"kiss\")\n",
        "    tweet = tweet.replace(\"thx\", \"thanks\")\n",
        "    tweet = tweet.replace(\"hhhhhh\", \"\")\n",
        "    tweet = tweet.replace(\"ooooooooooooooooooooo\", \"\")\n",
        "    tweet = tweet.replace(\"f......g\", \"fucking\")\n",
        "    tweet = tweet.replace(\"aaaa\", \"a\")\n",
        "    token = tweet_tokenizer.tokenize(tweet)\n",
        "    token_clened = [word for word in token if (word not in string.punctuation and word not in other)]\n",
        "    #if i % 200 == 0:\n",
        "    #  print(token_clened)\n",
        "    #token_clened = [word for word in token if (word not in other and word not in string.punctuation)]\n",
        "    #print(token_clened)\n",
        "    tokens.append(token_clened)"
      ],
      "metadata": {
        "id": "RO6XCofgFxw-"
      },
      "execution_count": null,
      "outputs": []
    },
    {
      "cell_type": "code",
      "source": [
        "# tokenize the sentences\n",
        "from keras.preprocessing.text import Tokenizer\n",
        "#from keras.preprocessing.sequence import pad_sequences\n",
        "from keras_preprocessing.sequence import pad_sequences\n",
        "# fit on the 20000\n",
        "tokenizer = Tokenizer(lower=False)\n",
        "tokenizer.fit_on_texts(tokens)\n",
        "print(len(tokenizer.word_counts))\n",
        "\n",
        "from keras.utils import to_categorical\n",
        "\n",
        "y_train = to_categorical(y, 3)\n",
        "#y_test = to_categorical(y_val, 3)\n"
      ],
      "metadata": {
        "colab": {
          "base_uri": "https://localhost:8080/"
        },
        "id": "8ChZ3OxzO0e3",
        "outputId": "d16a72ef-0dd9-4bcf-e824-3e81bd24b198"
      },
      "execution_count": null,
      "outputs": [
        {
          "output_type": "stream",
          "name": "stdout",
          "text": [
            "254585\n"
          ]
        }
      ]
    },
    {
      "cell_type": "code",
      "source": [
        "print(len(tokens))\n",
        "train_text_vec = tokenizer.texts_to_sequences(tokens)\n",
        "train_text_vec = pad_sequences(train_text_vec, maxlen=32)"
      ],
      "metadata": {
        "colab": {
          "base_uri": "https://localhost:8080/"
        },
        "id": "YRekvq6aTIib",
        "outputId": "d370655f-8951-4af6-f0a9-d1ad0e3ea0f7"
      },
      "execution_count": null,
      "outputs": [
        {
          "output_type": "stream",
          "name": "stdout",
          "text": [
            "1040323\n"
          ]
        }
      ]
    },
    {
      "cell_type": "markdown",
      "source": [],
      "metadata": {
        "id": "9IBjnb5oTUNp"
      }
    },
    {
      "cell_type": "code",
      "source": [
        "len(train_text_vec)"
      ],
      "metadata": {
        "colab": {
          "base_uri": "https://localhost:8080/"
        },
        "id": "akEuo0JOVVO7",
        "outputId": "4dc88037-caec-4113-c54d-1a3c9a0794ff"
      },
      "execution_count": null,
      "outputs": [
        {
          "output_type": "execute_result",
          "data": {
            "text/plain": [
              "1040323"
            ]
          },
          "metadata": {},
          "execution_count": 81
        }
      ]
    },
    {
      "cell_type": "markdown",
      "source": [],
      "metadata": {
        "id": "UHI85h_KTYl8"
      }
    },
    {
      "cell_type": "code",
      "source": [
        "y_train.shape"
      ],
      "metadata": {
        "colab": {
          "base_uri": "https://localhost:8080/"
        },
        "id": "gLKJv5nyTY59",
        "outputId": "6d81b0a4-f750-4692-985f-03360a7b45f3"
      },
      "execution_count": null,
      "outputs": [
        {
          "output_type": "execute_result",
          "data": {
            "text/plain": [
              "(1040323, 3)"
            ]
          },
          "metadata": {},
          "execution_count": 77
        }
      ]
    },
    {
      "cell_type": "code",
      "source": [
        "train_text_vec.shape"
      ],
      "metadata": {
        "colab": {
          "base_uri": "https://localhost:8080/"
        },
        "id": "c7--mhHATaUu",
        "outputId": "6ac83304-3cb7-4180-e2a3-91d4d860363f"
      },
      "execution_count": null,
      "outputs": [
        {
          "output_type": "execute_result",
          "data": {
            "text/plain": [
              "(2080643, 32)"
            ]
          },
          "metadata": {},
          "execution_count": 78
        }
      ]
    },
    {
      "cell_type": "markdown",
      "source": [
        "Best Model"
      ],
      "metadata": {
        "id": "x-tUQN67f8kb"
      }
    }
  ]
}