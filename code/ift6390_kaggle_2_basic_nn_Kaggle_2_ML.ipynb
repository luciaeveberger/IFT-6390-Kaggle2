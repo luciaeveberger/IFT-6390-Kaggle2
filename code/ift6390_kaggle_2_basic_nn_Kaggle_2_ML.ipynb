{
 "cells": [
  {
   "cell_type": "markdown",
   "metadata": {
    "id": "MQGflZgISUnf"
   },
   "source": [
    "# Importing and data reading\n",
    "\n"
   ]
  },
  {
   "cell_type": "code",
   "execution_count": 1,
   "metadata": {
    "colab": {
     "base_uri": "https://localhost:8080/"
    },
    "id": "BbhJTdIySaPp",
    "outputId": "5ddb9a74-09e0-499f-ec25-ee2b9a6a1fcd"
   },
   "outputs": [
    {
     "name": "stdout",
     "output_type": "stream",
     "text": [
      "2.9.2\n"
     ]
    }
   ],
   "source": [
    "import matplotlib.pyplot as plt\n",
    "import os\n",
    "import re\n",
    "import shutil\n",
    "import string\n",
    "import tensorflow as tf\n",
    "\n",
    "from tensorflow.keras import layers\n",
    "from tensorflow.keras import losses\n",
    "\n",
    "import numpy as np\n",
    "import pandas as pd\n",
    "import matplotlib.pyplot as plt\n",
    "print(tf.__version__)"
   ]
  },
  {
   "cell_type": "code",
   "execution_count": 2,
   "metadata": {
    "colab": {
     "base_uri": "https://localhost:8080/"
    },
    "id": "gbR1HGiWSx1f",
    "outputId": "97dfd06c-b73c-4e59-b07e-e40f7f7ea1eb"
   },
   "outputs": [
    {
     "name": "stdout",
     "output_type": "stream",
     "text": [
      "Mounted at /content/drive\n"
     ]
    }
   ],
   "source": [
    "from google.colab import drive\n",
    "\n",
    "drive.mount(\"/content/drive\")"
   ]
  },
  {
   "cell_type": "code",
   "execution_count": 61,
   "metadata": {
    "id": "Ytzd3degSsSC"
   },
   "outputs": [],
   "source": [
    "def get_train_data(path=\"/content/drive/My Drive/Mila/ML/kaggle_2/data/\"):\n",
    "  x_train = pd.read_csv(path + 'train_data.csv')\n",
    "  y_train = pd.read_csv(path + 'train_results.csv')\n",
    "  return x_train[\"text\"].tolist(), y_train[\"target\"].tolist()\n",
    "\n",
    "x_train, y_train = get_train_data()"
   ]
  },
  {
   "cell_type": "markdown",
   "metadata": {
    "id": "bxNZKpvwdio6"
   },
   "source": [
    "# Preprocesing"
   ]
  },
  {
   "cell_type": "code",
   "execution_count": 62,
   "metadata": {
    "colab": {
     "base_uri": "https://localhost:8080/"
    },
    "id": "bxTBwqbVdlNv",
    "outputId": "c723843f-3f4a-4b4c-a48b-641c031d8f1d"
   },
   "outputs": [
    {
     "name": "stderr",
     "output_type": "stream",
     "text": [
      "[nltk_data] Downloading package stopwords to /root/nltk_data...\n",
      "[nltk_data]   Unzipping corpora/stopwords.zip.\n"
     ]
    }
   ],
   "source": [
    "import nltk\n",
    "from nltk.corpus import stopwords\n",
    "from nltk.tokenize import TweetTokenizer\n",
    "\n",
    "nltk.download('stopwords')\n",
    "english_stopwords = stopwords.words(\"english\")\n",
    "english_stopwords.extend([\"..\", \"...\", \"....\"])\n",
    "negative_words = ('no', 'not')\n",
    "english_stopwords = [e for e in english_stopwords if e not in negative_words]\n",
    "\n",
    "tweet_tokenizer = TweetTokenizer(\n",
    "    preserve_case=False,\n",
    "    strip_handles=True,\n",
    "    reduce_len=True\n",
    ")\n",
    "\n",
    "tokens = []\n",
    "\n",
    "# for tweet in x_train:\n",
    "for i, tweet in enumerate(x_train):\n",
    "    token = tweet_tokenizer.tokenize(tweet)\n",
    "    token_clened = [word for word in token if (word not in english_stopwords and word not in string.punctuation)]\n",
    "    if y_train[i]==\"positive\":\n",
    "      label = 1\n",
    "    elif y_train[i]==\"negative\":\n",
    "      label = 0\n",
    "    else:\n",
    "      label = 2\n",
    "    tokens.append([\" \".join(token_clened), label])\n",
    "    # tokens.append([tweet, label])"
   ]
  },
  {
   "cell_type": "code",
   "execution_count": 63,
   "metadata": {
    "id": "XbXVOexgKTUh"
   },
   "outputs": [],
   "source": [
    "df = pd.DataFrame(tokens, columns=[\"x_train\", \"y_train\"])"
   ]
  },
  {
   "cell_type": "code",
   "execution_count": 74,
   "metadata": {
    "id": "tADhfv2H5M3w"
   },
   "outputs": [],
   "source": [
    "from sklearn.model_selection import train_test_split\n",
    "X_train, X_val, y_train, y_val = train_test_split(df[\"x_train\"], df[\"y_train\"], test_size=0.2, random_state=42)\n",
    "\n",
    "train = pd.concat([X_train, y_train], axis = 1, join = 'outer', ignore_index=False, sort=False)\n",
    "val = pd.concat([X_val, y_val], axis = 1, join = 'outer', ignore_index=False, sort=False)\n",
    "\n",
    "train.to_csv('/content/drive/My Drive/Mila/ML/kaggle_2/data_clean/train_data.csv', index=False)\n",
    "val.to_csv('/content/drive/My Drive/Mila/ML/kaggle_2/data_clean/val_data.csv', index=False)"
   ]
  },
  {
   "cell_type": "code",
   "execution_count": 3,
   "metadata": {
    "id": "KeNyRCyMQ5re"
   },
   "outputs": [],
   "source": [
    "sequence_length = 280\n",
    "\n",
    "vectorize_layer = layers.TextVectorization(\n",
    "    # max_tokens=max_features,\n",
    "    output_mode='int',\n",
    "    output_sequence_length=sequence_length)"
   ]
  },
  {
   "cell_type": "code",
   "execution_count": 10,
   "metadata": {
    "id": "2QybXEKTSdOM"
   },
   "outputs": [],
   "source": [
    "EPOCHS = 30\n",
    "BATCH_SIZE = 64\n",
    "STEPS_PER_EPOCH = int(832259 / BATCH_SIZE)\n",
    "\n",
    "train_dataset = tf.data.experimental.make_csv_dataset(\"/content/drive/My Drive/Mila/ML/kaggle_2/data_clean/train_data.csv\",\n",
    "  batch_size=BATCH_SIZE,\n",
    "  num_epochs=EPOCHS,\n",
    "  label_name=\"y_train\",\n",
    "  header=True,\n",
    ")\n",
    "\n",
    "val_dataset = tf.data.experimental.make_csv_dataset(\"/content/drive/My Drive/Mila/ML/kaggle_2/data_clean/val_data.csv\",\n",
    "  batch_size=BATCH_SIZE,\n",
    "  num_epochs=EPOCHS,\n",
    "  label_name=\"y_train\",\n",
    "  header=True,\n",
    ")"
   ]
  },
  {
   "cell_type": "code",
   "execution_count": 5,
   "metadata": {
    "id": "1ZNX7FpuSsg7"
   },
   "outputs": [],
   "source": [
    "train_text = train_dataset.map(lambda x, y: x[\"x_train\"])\n",
    "vectorize_layer.adapt(train_text)"
   ]
  },
  {
   "cell_type": "code",
   "execution_count": 6,
   "metadata": {
    "colab": {
     "base_uri": "https://localhost:8080/"
    },
    "id": "7wW0uhI1S1DQ",
    "outputId": "5c88767d-0c6d-4311-f555-e7cf40eb5501"
   },
   "outputs": [
    {
     "data": {
      "text/plain": [
       "<tf.Tensor: shape=(1, 280), dtype=int64, numpy=\n",
       "array([[ 4714,     1,     1,   494, 10175,   208,   340,     1,     1,\n",
       "        30011, 17073, 25502,     0,     0,     0,     0,     0,     0,\n",
       "            0,     0,     0,     0,     0,     0,     0,     0,     0,\n",
       "            0,     0,     0,     0,     0,     0,     0,     0,     0,\n",
       "            0,     0,     0,     0,     0,     0,     0,     0,     0,\n",
       "            0,     0,     0,     0,     0,     0,     0,     0,     0,\n",
       "            0,     0,     0,     0,     0,     0,     0,     0,     0,\n",
       "            0,     0,     0,     0,     0,     0,     0,     0,     0,\n",
       "            0,     0,     0,     0,     0,     0,     0,     0,     0,\n",
       "            0,     0,     0,     0,     0,     0,     0,     0,     0,\n",
       "            0,     0,     0,     0,     0,     0,     0,     0,     0,\n",
       "            0,     0,     0,     0,     0,     0,     0,     0,     0,\n",
       "            0,     0,     0,     0,     0,     0,     0,     0,     0,\n",
       "            0,     0,     0,     0,     0,     0,     0,     0,     0,\n",
       "            0,     0,     0,     0,     0,     0,     0,     0,     0,\n",
       "            0,     0,     0,     0,     0,     0,     0,     0,     0,\n",
       "            0,     0,     0,     0,     0,     0,     0,     0,     0,\n",
       "            0,     0,     0,     0,     0,     0,     0,     0,     0,\n",
       "            0,     0,     0,     0,     0,     0,     0,     0,     0,\n",
       "            0,     0,     0,     0,     0,     0,     0,     0,     0,\n",
       "            0,     0,     0,     0,     0,     0,     0,     0,     0,\n",
       "            0,     0,     0,     0,     0,     0,     0,     0,     0,\n",
       "            0,     0,     0,     0,     0,     0,     0,     0,     0,\n",
       "            0,     0,     0,     0,     0,     0,     0,     0,     0,\n",
       "            0,     0,     0,     0,     0,     0,     0,     0,     0,\n",
       "            0,     0,     0,     0,     0,     0,     0,     0,     0,\n",
       "            0,     0,     0,     0,     0,     0,     0,     0,     0,\n",
       "            0,     0,     0,     0,     0,     0,     0,     0,     0,\n",
       "            0,     0,     0,     0,     0,     0,     0,     0,     0,\n",
       "            0,     0,     0,     0,     0,     0,     0,     0,     0,\n",
       "            0,     0,     0,     0,     0,     0,     0,     0,     0,\n",
       "            0]])>"
      ]
     },
     "execution_count": 6,
     "metadata": {},
     "output_type": "execute_result"
    }
   ],
   "source": [
    "max_features = len(vectorize_layer.get_vocabulary())\n",
    "vectorize_layer([\"hola hhola dsads bye adios hi hello how are you the a\"])"
   ]
  },
  {
   "cell_type": "markdown",
   "metadata": {
    "id": "JHWhE-VpktGH"
   },
   "source": [
    "# Train"
   ]
  },
  {
   "cell_type": "code",
   "execution_count": 11,
   "metadata": {
    "colab": {
     "base_uri": "https://localhost:8080/"
    },
    "id": "xpKOoWgu-llD",
    "outputId": "e9d202c4-17cd-46a9-981f-f23e1955efad"
   },
   "outputs": [
    {
     "name": "stdout",
     "output_type": "stream",
     "text": [
      "Model: \"sequential_1\"\n",
      "_________________________________________________________________\n",
      " Layer (type)                Output Shape              Param #   \n",
      "=================================================================\n",
      " embedding_1 (Embedding)     (None, None, 16)          3796832   \n",
      "                                                                 \n",
      " dropout_2 (Dropout)         (None, None, 16)          0         \n",
      "                                                                 \n",
      " global_average_pooling1d_1   (None, 16)               0         \n",
      " (GlobalAveragePooling1D)                                        \n",
      "                                                                 \n",
      " dropout_3 (Dropout)         (None, 16)                0         \n",
      "                                                                 \n",
      " dense_1 (Dense)             (None, 3)                 51        \n",
      "                                                                 \n",
      "=================================================================\n",
      "Total params: 3,796,883\n",
      "Trainable params: 3,796,883\n",
      "Non-trainable params: 0\n",
      "_________________________________________________________________\n"
     ]
    }
   ],
   "source": [
    "embedding_dim = 16\n",
    "model = tf.keras.Sequential([\n",
    "  layers.Embedding(max_features + 1, embedding_dim),\n",
    "  layers.Dropout(0.3),\n",
    "  layers.GlobalAveragePooling1D(),\n",
    "  layers.Dropout(0.3),\n",
    "  layers.Dense(3)])\n",
    "\n",
    "model.summary()"
   ]
  },
  {
   "cell_type": "code",
   "execution_count": 12,
   "metadata": {
    "id": "PchqZj9CHHPE"
   },
   "outputs": [],
   "source": [
    "from tensorflow.keras import callbacks\n",
    "from tensorflow.keras import optimizers\n",
    "\n",
    "early_stopping = callbacks.EarlyStopping(\n",
    "    monitor='accuracy', \n",
    "    verbose=1,\n",
    "    patience=4,\n",
    "    mode='max',\n",
    "    restore_best_weights=True)\n",
    "\n",
    "model.compile(loss=losses.SparseCategoricalCrossentropy(from_logits=True),\n",
    "              optimizer=optimizers.Adam(learning_rate=1e-3),\n",
    "              metrics=['accuracy'])"
   ]
  },
  {
   "cell_type": "code",
   "execution_count": 13,
   "metadata": {
    "id": "ofONE-FvEwXH"
   },
   "outputs": [],
   "source": [
    "def vectorize_text(text, label):\n",
    "  text = tf.expand_dims(text[\"x_train\"], -1)\n",
    "  return vectorize_layer(text), label"
   ]
  },
  {
   "cell_type": "code",
   "execution_count": 14,
   "metadata": {
    "id": "j-wnuDFKZRsq"
   },
   "outputs": [],
   "source": [
    "train_ds = train_dataset.map(vectorize_text)\n",
    "val_ds = val_dataset.map(vectorize_text)"
   ]
  },
  {
   "cell_type": "markdown",
   "metadata": {
    "id": "35jv_fzP-llU"
   },
   "source": [
    "### Train the model\n",
    "\n",
    "You will train the model by passing the `dataset` object to the fit method."
   ]
  },
  {
   "cell_type": "code",
   "execution_count": 15,
   "metadata": {
    "colab": {
     "base_uri": "https://localhost:8080/"
    },
    "id": "Eoe6pgqyXRm7",
    "outputId": "492d8955-6efb-4b33-8258-6294dc5f2272"
   },
   "outputs": [
    {
     "name": "stdout",
     "output_type": "stream",
     "text": [
      "Epoch 1/30\n",
      "13004/13004 [==============================] - 278s 21ms/step - loss: 0.6344 - accuracy: 0.6555 - val_loss: 0.5253 - val_accuracy: 0.7585\n",
      "Epoch 2/30\n",
      "13004/13004 [==============================] - 272s 21ms/step - loss: 0.5190 - accuracy: 0.7615 - val_loss: 0.4894 - val_accuracy: 0.7776\n",
      "Epoch 3/30\n",
      "13004/13004 [==============================] - 279s 21ms/step - loss: 0.4985 - accuracy: 0.7752 - val_loss: 0.4805 - val_accuracy: 0.7806\n",
      "Epoch 4/30\n",
      "13004/13004 [==============================] - 284s 22ms/step - loss: 0.4893 - accuracy: 0.7807 - val_loss: 0.4760 - val_accuracy: 0.7851\n",
      "Epoch 5/30\n",
      "13004/13004 [==============================] - 286s 22ms/step - loss: 0.4833 - accuracy: 0.7842 - val_loss: 0.4740 - val_accuracy: 0.7875\n",
      "Epoch 6/30\n",
      "13004/13004 [==============================] - 287s 22ms/step - loss: 0.4794 - accuracy: 0.7871 - val_loss: 0.4729 - val_accuracy: 0.7885\n",
      "Epoch 7/30\n",
      "13004/13004 [==============================] - 296s 23ms/step - loss: 0.4753 - accuracy: 0.7895 - val_loss: 0.4716 - val_accuracy: 0.7885\n",
      "Epoch 8/30\n",
      "13004/13004 [==============================] - 271s 21ms/step - loss: 0.4715 - accuracy: 0.7917 - val_loss: 0.4712 - val_accuracy: 0.7890\n",
      "Epoch 9/30\n",
      "13004/13004 [==============================] - 265s 20ms/step - loss: 0.4679 - accuracy: 0.7936 - val_loss: 0.4711 - val_accuracy: 0.7894\n",
      "Epoch 10/30\n",
      "13004/13004 [==============================] - 265s 20ms/step - loss: 0.4649 - accuracy: 0.7952 - val_loss: 0.4715 - val_accuracy: 0.7898\n",
      "Epoch 11/30\n",
      "13004/13004 [==============================] - 263s 20ms/step - loss: 0.4625 - accuracy: 0.7960 - val_loss: 0.4730 - val_accuracy: 0.7836\n",
      "Epoch 12/30\n",
      "13004/13004 [==============================] - 263s 20ms/step - loss: 0.4602 - accuracy: 0.7974 - val_loss: 0.4809 - val_accuracy: 0.7834\n",
      "Epoch 13/30\n",
      "13004/13004 [==============================] - 263s 20ms/step - loss: 0.4585 - accuracy: 0.7988 - val_loss: 0.4725 - val_accuracy: 0.7891\n",
      "Epoch 14/30\n",
      "13004/13004 [==============================] - 265s 20ms/step - loss: 0.4566 - accuracy: 0.7996 - val_loss: 0.4730 - val_accuracy: 0.7845\n",
      "Epoch 15/30\n",
      "13004/13004 [==============================] - 264s 20ms/step - loss: 0.4549 - accuracy: 0.8007 - val_loss: 0.4746 - val_accuracy: 0.7879\n",
      "Epoch 16/30\n",
      "13004/13004 [==============================] - 264s 20ms/step - loss: 0.4536 - accuracy: 0.8016 - val_loss: 0.4724 - val_accuracy: 0.7879\n",
      "Epoch 17/30\n",
      "13004/13004 [==============================] - 264s 20ms/step - loss: 0.4517 - accuracy: 0.8027 - val_loss: 0.4729 - val_accuracy: 0.7878\n",
      "Epoch 18/30\n",
      "13004/13004 [==============================] - 264s 20ms/step - loss: 0.4504 - accuracy: 0.8031 - val_loss: 0.4752 - val_accuracy: 0.7874\n",
      "Epoch 19/30\n",
      "13004/13004 [==============================] - 262s 20ms/step - loss: 0.4497 - accuracy: 0.8041 - val_loss: 0.4755 - val_accuracy: 0.7835\n",
      "Epoch 20/30\n",
      "13004/13004 [==============================] - 262s 20ms/step - loss: 0.4482 - accuracy: 0.8049 - val_loss: 0.4746 - val_accuracy: 0.7852\n",
      "Epoch 21/30\n",
      "13004/13004 [==============================] - 262s 20ms/step - loss: 0.4470 - accuracy: 0.8056 - val_loss: 0.4778 - val_accuracy: 0.7868\n",
      "Epoch 22/30\n",
      "13004/13004 [==============================] - 263s 20ms/step - loss: 0.4461 - accuracy: 0.8057 - val_loss: 0.4783 - val_accuracy: 0.7815\n",
      "Epoch 23/30\n",
      "13004/13004 [==============================] - 264s 20ms/step - loss: 0.4451 - accuracy: 0.8062 - val_loss: 0.4755 - val_accuracy: 0.7866\n",
      "Epoch 24/30\n",
      "13004/13004 [==============================] - 262s 20ms/step - loss: 0.4442 - accuracy: 0.8073 - val_loss: 0.4774 - val_accuracy: 0.7835\n",
      "Epoch 25/30\n",
      "13004/13004 [==============================] - 264s 20ms/step - loss: 0.4432 - accuracy: 0.8077 - val_loss: 0.4834 - val_accuracy: 0.7836\n",
      "Epoch 26/30\n",
      "13004/13004 [==============================] - 266s 20ms/step - loss: 0.4423 - accuracy: 0.8082 - val_loss: 0.4810 - val_accuracy: 0.7802\n",
      "Epoch 27/30\n",
      "13004/13004 [==============================] - 265s 20ms/step - loss: 0.4413 - accuracy: 0.8088 - val_loss: 0.4858 - val_accuracy: 0.7758\n",
      "Epoch 28/30\n",
      "13004/13004 [==============================] - 269s 21ms/step - loss: 0.4406 - accuracy: 0.8090 - val_loss: 0.4788 - val_accuracy: 0.7833\n",
      "Epoch 29/30\n",
      "13004/13004 [==============================] - 264s 20ms/step - loss: 0.4397 - accuracy: 0.8097 - val_loss: 0.4785 - val_accuracy: 0.7851\n",
      "Epoch 30/30\n",
      "13004/13004 [==============================] - 267s 21ms/step - loss: 0.4388 - accuracy: 0.8099 - val_loss: 0.4816 - val_accuracy: 0.7850\n"
     ]
    }
   ],
   "source": [
    "history = model.fit(\n",
    "    train_ds,\n",
    "    validation_data=val_ds,\n",
    "    epochs=EPOCHS,\n",
    "    steps_per_epoch=STEPS_PER_EPOCH,\n",
    "    callbacks = [early_stopping]\n",
    ")"
   ]
  },
  {
   "cell_type": "code",
   "execution_count": 16,
   "metadata": {
    "id": "5Vy3Nfs7komd"
   },
   "outputs": [],
   "source": [
    "model.save(\"/content/drive/My Drive/Mila/ML/kaggle_2/data/best_nn_.h5\")"
   ]
  },
  {
   "cell_type": "code",
   "execution_count": 17,
   "metadata": {
    "colab": {
     "base_uri": "https://localhost:8080/"
    },
    "id": "-YcvZsdvWfDf",
    "outputId": "6cd5b5d6-73fa-4961-996a-f6ea3d452708"
   },
   "outputs": [
    {
     "data": {
      "text/plain": [
       "dict_keys(['loss', 'accuracy', 'val_loss', 'val_accuracy'])"
      ]
     },
     "execution_count": 17,
     "metadata": {},
     "output_type": "execute_result"
    }
   ],
   "source": [
    "history_dict = history.history\n",
    "history_dict.keys()"
   ]
  },
  {
   "cell_type": "code",
   "execution_count": 18,
   "metadata": {
    "colab": {
     "base_uri": "https://localhost:8080/",
     "height": 295
    },
    "id": "2SEMeQ5YXs8z",
    "outputId": "74573f0c-0d23-43a4-dfa8-0272c8d0894e"
   },
   "outputs": [
    {
     "data": {
      "image/png": "[encoded data removed]",
      "text/plain": [
       "<Figure size 432x288 with 1 Axes>"
      ]
     },
     "metadata": {
      "needs_background": "light"
     },
     "output_type": "display_data"
    }
   ],
   "source": [
    "acc = history_dict['accuracy']\n",
    "val_acc = history_dict['val_accuracy']\n",
    "loss = history_dict['loss']\n",
    "val_loss = history_dict['val_loss']\n",
    "\n",
    "epochs = range(1, len(acc) + 1)\n",
    "\n",
    "# \"bo\" is for \"blue dot\"\n",
    "plt.plot(epochs, loss, 'bo', label='Training loss')\n",
    "# b is for \"solid blue line\"\n",
    "plt.plot(epochs, val_loss, 'b', label='Validation loss')\n",
    "plt.title('Training and validation loss')\n",
    "plt.xlabel('Epochs')\n",
    "plt.ylabel('Loss')\n",
    "plt.legend()\n",
    "\n",
    "plt.show()"
   ]
  },
  {
   "cell_type": "code",
   "execution_count": 19,
   "metadata": {
    "colab": {
     "base_uri": "https://localhost:8080/",
     "height": 295
    },
    "id": "Z3PJemLPXwz_",
    "outputId": "47c70288-b6a2-4f55-bb8e-825015b08052"
   },
   "outputs": [
    {
     "data": {
      "image/png": "[encoded data removed]",
      "text/plain": [
       "<Figure size 432x288 with 1 Axes>"
      ]
     },
     "metadata": {
      "needs_background": "light"
     },
     "output_type": "display_data"
    }
   ],
   "source": [
    "plt.plot(epochs, acc, 'bo', label='Training acc')\n",
    "plt.plot(epochs, val_acc, 'b', label='Validation acc')\n",
    "plt.title('Training and validation accuracy')\n",
    "plt.xlabel('Epochs')\n",
    "plt.ylabel('Accuracy')\n",
    "plt.legend(loc='lower right')\n",
    "\n",
    "plt.show()"
   ]
  },
  {
   "cell_type": "markdown",
   "metadata": {
    "id": "Zlg-1dejF-Nr"
   },
   "source": [
    "# Test"
   ]
  },
  {
   "cell_type": "code",
   "execution_count": 28,
   "metadata": {
    "id": "ZwZHHsbMGD21"
   },
   "outputs": [],
   "source": [
    "def get_test_data(path=\"/content/drive/My Drive/Mila/ML/kaggle_2/data/\"):\n",
    "  x_train = pd.read_csv(path + 'test_data.csv')\n",
    "  return x_train[\"text\"].tolist()\n",
    "\n",
    "x_test = get_test_data()"
   ]
  },
  {
   "cell_type": "code",
   "execution_count": 32,
   "metadata": {
    "colab": {
     "base_uri": "https://localhost:8080/"
    },
    "id": "0r4iC1ZFHpVC",
    "outputId": "ba619ec4-9037-44e3-a563-f526e04fef65"
   },
   "outputs": [
    {
     "name": "stderr",
     "output_type": "stream",
     "text": [
      "[nltk_data] Downloading package stopwords to /root/nltk_data...\n",
      "[nltk_data]   Package stopwords is already up-to-date!\n"
     ]
    }
   ],
   "source": [
    "import nltk\n",
    "from nltk.corpus import stopwords\n",
    "from nltk.tokenize import TweetTokenizer\n",
    "\n",
    "nltk.download('stopwords')\n",
    "english_stopwords = stopwords.words(\"english\")\n",
    "english_stopwords.extend([\"..\", \"...\", \"....\"])\n",
    "negative_words = ('no', 'not')\n",
    "english_stopwords = [e for e in english_stopwords if e not in negative_words]\n",
    "\n",
    "tweet_tokenizer = TweetTokenizer(\n",
    "    preserve_case=False,\n",
    "    strip_handles=True,\n",
    "    reduce_len=True\n",
    ")\n",
    "\n",
    "tokens = []\n",
    "\n",
    "\n",
    "\n",
    "# for tweet in x_train:\n",
    "for i, tweet in enumerate(x_test):\n",
    "    token = tweet_tokenizer.tokenize(tweet)\n",
    "    token_clened = [word for word in token if (word not in english_stopwords and word not in string.punctuation)]\n",
    " \n",
    "    tokens.append(\" \".join(token_clened))\n",
    "\n",
    "df = pd.DataFrame(tokens, columns=[\"x_test\"])\n",
    "df.to_csv('/content/drive/My Drive/Mila/ML/kaggle_2/data_clean/test_data.csv', index=False)"
   ]
  },
  {
   "cell_type": "code",
   "execution_count": 33,
   "metadata": {
    "id": "OJeZkV6tIRJl"
   },
   "outputs": [],
   "source": [
    "test_dataset = tf.data.experimental.make_csv_dataset(\"/content/drive/My Drive/Mila/ML/kaggle_2/data_clean/test_data.csv\",\n",
    "  batch_size=64,\n",
    "  num_epochs=1,\n",
    "  # label_name=\"y_train\",\n",
    "  header=True,\n",
    ")\n",
    "\n",
    "def vectorize_test_text(text):\n",
    "  text = tf.expand_dims(text[\"x_test\"], -1)\n",
    "  return vectorize_layer(text)\n",
    "\n",
    "x_test = test_dataset.map(vectorize_test_text)"
   ]
  },
  {
   "cell_type": "code",
   "execution_count": 34,
   "metadata": {
    "colab": {
     "base_uri": "https://localhost:8080/"
    },
    "id": "42cOtXngEmNz",
    "outputId": "c5ee1a1f-586a-49e1-e03c-59829fab81de"
   },
   "outputs": [
    {
     "name": "stdout",
     "output_type": "stream",
     "text": [
      "8753/8753 [==============================] - 16s 2ms/step\n"
     ]
    }
   ],
   "source": [
    "y_pred = model.predict(x_test, batch_size=BATCH_SIZE)"
   ]
  },
  {
   "cell_type": "code",
   "execution_count": 45,
   "metadata": {
    "colab": {
     "base_uri": "https://localhost:8080/"
    },
    "id": "OqmnYTElo3SL",
    "outputId": "b713f744-18cc-4f59-d535-ccf45ed803e4"
   },
   "outputs": [
    {
     "name": "stdout",
     "output_type": "stream",
     "text": [
      "[ 0.7222135  -0.04947993 -9.270195  ]\n",
      "[-0.31086755  0.9011531  -8.097951  ]\n",
      "[-0.43863052  1.0327337  -8.253955  ]\n"
     ]
    }
   ],
   "source": [
    "print(y_pred[0])\n",
    "print(y_pred[1])\n",
    "print(y_pred[2])"
   ]
  },
  {
   "cell_type": "code",
   "execution_count": 63,
   "metadata": {
    "id": "tuUdnRqipOmH"
   },
   "outputs": [],
   "source": [
    "df = pd.DataFrame(y_pred.argmax(axis=1), columns=[\"target\"])\n",
    "df[\"target\"] = df[\"target\"].replace(1, 2)\n",
    "\n",
    "df.index.name = 'id'"
   ]
  },
  {
   "cell_type": "code",
   "execution_count": 64,
   "metadata": {
    "colab": {
     "base_uri": "https://localhost:8080/"
    },
    "id": "2uqOEa6ZtM0x",
    "outputId": "756c7026-6597-44fa-b25b-3a9c12c6f8fb"
   },
   "outputs": [
    {
     "name": "stdout",
     "output_type": "stream",
     "text": [
      "        target\n",
      "id            \n",
      "0            0\n",
      "1            2\n",
      "2            2\n",
      "3            2\n",
      "4            0\n",
      "...        ...\n",
      "560170       0\n",
      "560171       2\n",
      "560172       2\n",
      "560173       2\n",
      "560174       2\n",
      "\n",
      "[560175 rows x 1 columns]\n"
     ]
    }
   ],
   "source": [
    "print(df)"
   ]
  },
  {
   "cell_type": "code",
   "execution_count": 66,
   "metadata": {
    "id": "AakEequCJ_tX"
   },
   "outputs": [],
   "source": [
    "df.to_csv('/content/drive/My Drive/Mila/ML/kaggle_2/data_clean/nn.csv')"
   ]
  }
 ],
 "metadata": {
  "accelerator": "GPU",
  "colab": {
   "provenance": [],
   "toc_visible": true
  },
  "gpuClass": "standard",
  "kernelspec": {
   "display_name": "Python 3 (ipykernel)",
   "language": "python",
   "name": "python3"
  },
  "language_info": {
   "codemirror_mode": {
    "name": "ipython",
    "version": 3
   },
   "file_extension": ".py",
   "mimetype": "text/x-python",
   "name": "python",
   "nbconvert_exporter": "python",
   "pygments_lexer": "ipython3",
   "version": "3.9.2"
  }
 },
 "nbformat": 4,
 "nbformat_minor": 1
}
